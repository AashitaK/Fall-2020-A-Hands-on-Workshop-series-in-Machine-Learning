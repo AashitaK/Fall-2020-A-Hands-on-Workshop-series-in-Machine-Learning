{
 "cells": [
  {
   "cell_type": "markdown",
   "metadata": {},
   "source": [
    "### Instructions for the exercise - 2\n",
    "\n",
    "**Pick a topic**: Both of you should pick one of the following two topics (not the same one)  \n",
    "**Understand**: Take **8 min** to learn the topic and prepare your explanation  \n",
    "**Explain**: Take turns to explain your topic to your partner within **3 minutes**  \n",
    "\n",
    "Total time should be less than **15 minutes**.\n",
    "\n",
    "Topics:\n",
    "1. Precision-Recall curve.\n",
    "  \n",
    "2. Area under ROC curve and the comparison between Precision-Recall curve and AUROC.\n",
    "\n",
    "Keeping in mind the limitation of time, aim for broadly understanding your topic and explaining in simple terms. You can revisit in your time to study it more deeply."
   ]
  }
 ],
 "metadata": {
  "kernelspec": {
   "display_name": "Python 3",
   "language": "python",
   "name": "python3"
  },
  "language_info": {
   "codemirror_mode": {
    "name": "ipython",
    "version": 3
   },
   "file_extension": ".py",
   "mimetype": "text/x-python",
   "name": "python",
   "nbconvert_exporter": "python",
   "pygments_lexer": "ipython3",
   "version": "3.8.3"
  }
 },
 "nbformat": 4,
 "nbformat_minor": 4
}
