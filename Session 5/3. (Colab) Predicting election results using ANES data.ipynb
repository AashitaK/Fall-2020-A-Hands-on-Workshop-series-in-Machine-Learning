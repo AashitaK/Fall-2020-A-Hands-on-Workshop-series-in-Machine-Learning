{
 "cells": [
  {
   "cell_type": "markdown",
   "metadata": {
    "id": "Pr-wxNbJzswb"
   },
   "source": [
    "## A Hands-on Workshop series in Machine Learning\n",
    "### Session 5: Predicting election results using ANES (American National Election Study) data\n",
    "#### Instructor: Aashita Kesarwani\n",
    "\n",
    "You will use data from [ANES (American National Election Study)](https://electionstudies.org/data-center/) to build prediction models using neural network for this session."
   ]
  },
  {
   "cell_type": "code",
   "execution_count": 113,
   "metadata": {
    "colab": {
     "base_uri": "https://localhost:8080/",
     "height": 72,
     "resources": {
      "http://localhost:8080/nbextensions/google.colab/files.js": {
       "data": "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",
       "headers": [
        [
         "content-type",
         "application/javascript"
        ]
       ],
       "ok": true,
       "status": 200,
       "status_text": ""
      }
     }
    },
    "id": "9dXkV5hrzswh",
    "outputId": "02187dfe-ef68-4a54-abbe-133e4c069aba"
   },
   "outputs": [
    {
     "data": {
      "text/html": [
       "\n",
       "     <input type=\"file\" id=\"files-98727c34-f2f5-4aa6-a12a-7c3af8ecd9cc\" name=\"files[]\" multiple disabled\n",
       "        style=\"border:none\" />\n",
       "     <output id=\"result-98727c34-f2f5-4aa6-a12a-7c3af8ecd9cc\">\n",
       "      Upload widget is only available when the cell has been executed in the\n",
       "      current browser session. Please rerun this cell to enable.\n",
       "      </output>\n",
       "      <script src=\"/nbextensions/google.colab/files.js\"></script> "
      ],
      "text/plain": [
       "<IPython.core.display.HTML object>"
      ]
     },
     "metadata": {
      "tags": []
     },
     "output_type": "display_data"
    },
    {
     "name": "stdout",
     "output_type": "stream",
     "text": [
      "Saving anes.csv to anes (2).csv\n"
     ]
    }
   ],
   "source": [
    "import numpy as np\n",
    "import pandas as pd\n",
    "\n",
    "import warnings\n",
    "warnings.simplefilter('ignore') \n",
    "\n",
    "import matplotlib.pyplot as plt\n",
    "import seaborn as sns # Comment this if seaborn is not installed\n",
    "%matplotlib inline\n",
    "\n",
    "from google.colab import files\n",
    "uploaded = files.upload()"
   ]
  },
  {
   "cell_type": "code",
   "execution_count": 114,
   "metadata": {
    "colab": {
     "base_uri": "https://localhost:8080/",
     "height": 666
    },
    "id": "cZE3fUz8zswl",
    "outputId": "8d449452-cee5-4321-9885-dc9caf1a7feb"
   },
   "outputs": [
    {
     "data": {
      "text/html": [
       "<div>\n",
       "<style scoped>\n",
       "    .dataframe tbody tr th:only-of-type {\n",
       "        vertical-align: middle;\n",
       "    }\n",
       "\n",
       "    .dataframe tbody tr th {\n",
       "        vertical-align: top;\n",
       "    }\n",
       "\n",
       "    .dataframe thead th {\n",
       "        text-align: right;\n",
       "    }\n",
       "</style>\n",
       "<table border=\"1\" class=\"dataframe\">\n",
       "  <thead>\n",
       "    <tr style=\"text-align: right;\">\n",
       "      <th></th>\n",
       "      <th>race</th>\n",
       "      <th>incgroup</th>\n",
       "      <th>education</th>\n",
       "      <th>classpercep</th>\n",
       "      <th>votenat</th>\n",
       "      <th>votepresid</th>\n",
       "      <th>votecong</th>\n",
       "      <th>voteincumb</th>\n",
       "      <th>prevote</th>\n",
       "      <th>voteintactual</th>\n",
       "      <th>voterpref</th>\n",
       "      <th>novoterpref</th>\n",
       "      <th>mobiliz</th>\n",
       "      <th>poldiscuss</th>\n",
       "      <th>jobscale</th>\n",
       "      <th>numcandidat</th>\n",
       "      <th>close</th>\n",
       "      <th>staterace</th>\n",
       "    </tr>\n",
       "  </thead>\n",
       "  <tbody>\n",
       "    <tr>\n",
       "      <th>0</th>\n",
       "      <td>6. Other or multiple races, non-Hispanic (1968...</td>\n",
       "      <td>4. 68 to 95 percentile</td>\n",
       "      <td>5. Some college, no degree; junior/community c...</td>\n",
       "      <td>4. Average middle</td>\n",
       "      <td>2. Yes, voted</td>\n",
       "      <td>2. Republican</td>\n",
       "      <td>2. Republican</td>\n",
       "      <td>9. R did not vote or DK/NA if voted; R voted but</td>\n",
       "      <td>2. Republican candidate (with or without quali...</td>\n",
       "      <td>9. INTENDED Republican: voted Republican</td>\n",
       "      <td>5. Not strong</td>\n",
       "      <td>0. R voted or DK/NA/refused to say if voted (for</td>\n",
       "      <td>2. Yes</td>\n",
       "      <td>1. Yes</td>\n",
       "      <td>7. Government let each person get ahead on his...</td>\n",
       "      <td>2. Two or more major party candidates</td>\n",
       "      <td>3. Win by quite a bit</td>\n",
       "      <td>1. U.S. Senate race in state</td>\n",
       "    </tr>\n",
       "    <tr>\n",
       "      <th>1</th>\n",
       "      <td>1. White non-Hispanic (1948-2012)</td>\n",
       "      <td>3. 34 to 67 percentile</td>\n",
       "      <td>3. 12 grades, diploma or equivalency</td>\n",
       "      <td>1. Average working</td>\n",
       "      <td>0. DK; NA; no Post IW; refused to say if voted;</td>\n",
       "      <td>0. Did not vote; DK/NA if voted; refused to sa...</td>\n",
       "      <td>0. DK; NA; R did not vote; R refused to say if</td>\n",
       "      <td>9. R did not vote or DK/NA if voted; R voted but</td>\n",
       "      <td>2. Republican candidate (with or without quali...</td>\n",
       "      <td>0. NA who will vote for; no Pre IW; no Post IW;</td>\n",
       "      <td>9. NA; no Post IW; abbrev. telephone IW (1984)</td>\n",
       "      <td>9. DK; NA; refused; no Post IW</td>\n",
       "      <td>0. DK; NA; no Post IW; form III,IV (1972);</td>\n",
       "      <td>9. NA; no Post IW</td>\n",
       "      <td>9. DK; haven't thought much about it</td>\n",
       "      <td>9. NA; no Post IW; abbrev. telephone IW (1984);</td>\n",
       "      <td>3. Win by quite a bit</td>\n",
       "      <td>9. no Post IW; Washington D.C.</td>\n",
       "    </tr>\n",
       "    <tr>\n",
       "      <th>2</th>\n",
       "      <td>1. White non-Hispanic (1948-2012)</td>\n",
       "      <td>4. 68 to 95 percentile</td>\n",
       "      <td>6. BA level degrees</td>\n",
       "      <td>4. Average middle</td>\n",
       "      <td>2. Yes, voted</td>\n",
       "      <td>2. Republican</td>\n",
       "      <td>2. Republican</td>\n",
       "      <td>9. R did not vote or DK/NA if voted; R voted but</td>\n",
       "      <td>2. Republican candidate (with or without quali...</td>\n",
       "      <td>9. INTENDED Republican: voted Republican</td>\n",
       "      <td>1. Strong</td>\n",
       "      <td>0. R voted or DK/NA/refused to say if voted (for</td>\n",
       "      <td>2. Yes</td>\n",
       "      <td>1. Yes</td>\n",
       "      <td>5</td>\n",
       "      <td>2. Two or more major party candidates</td>\n",
       "      <td>3. Win by quite a bit</td>\n",
       "      <td>1. U.S. Senate race in state</td>\n",
       "    </tr>\n",
       "    <tr>\n",
       "      <th>3</th>\n",
       "      <td>1. White non-Hispanic (1948-2012)</td>\n",
       "      <td>4. 68 to 95 percentile</td>\n",
       "      <td>3. 12 grades, diploma or equivalency</td>\n",
       "      <td>1. Average working</td>\n",
       "      <td>1. No, did not vote</td>\n",
       "      <td>0. Did not vote; DK/NA if voted; refused to sa...</td>\n",
       "      <td>0. DK; NA; R did not vote; R refused to say if</td>\n",
       "      <td>9. R did not vote or DK/NA if voted; R voted but</td>\n",
       "      <td>2. Republican candidate (with or without quali...</td>\n",
       "      <td>6. INTENDED Republican: did not vote/voted 'ot...</td>\n",
       "      <td>0. R did not vote or DK/NA/refused to say if v...</td>\n",
       "      <td>2. Preference: Republican</td>\n",
       "      <td>1. No</td>\n",
       "      <td>5. No</td>\n",
       "      <td>5</td>\n",
       "      <td>2. Two or more major party candidates</td>\n",
       "      <td>1. Close race</td>\n",
       "      <td>1. U.S. Senate race in state</td>\n",
       "    </tr>\n",
       "    <tr>\n",
       "      <th>4</th>\n",
       "      <td>1. White non-Hispanic (1948-2012)</td>\n",
       "      <td>4. 68 to 95 percentile</td>\n",
       "      <td>6. BA level degrees</td>\n",
       "      <td>4. Average middle</td>\n",
       "      <td>2. Yes, voted</td>\n",
       "      <td>2. Republican</td>\n",
       "      <td>1. Democrat</td>\n",
       "      <td>9. R did not vote or DK/NA if voted; R voted but</td>\n",
       "      <td>2. Republican candidate (with or without quali...</td>\n",
       "      <td>9. INTENDED Republican: voted Republican</td>\n",
       "      <td>1. Strong</td>\n",
       "      <td>0. R voted or DK/NA/refused to say if voted (for</td>\n",
       "      <td>1. No</td>\n",
       "      <td>1. Yes</td>\n",
       "      <td>9. DK; haven't thought much about it</td>\n",
       "      <td>2. Two or more major party candidates</td>\n",
       "      <td>3. Win by quite a bit</td>\n",
       "      <td>1. U.S. Senate race in state</td>\n",
       "    </tr>\n",
       "  </tbody>\n",
       "</table>\n",
       "</div>"
      ],
      "text/plain": [
       "                                                race  ...                       staterace\n",
       "0  6. Other or multiple races, non-Hispanic (1968...  ...    1. U.S. Senate race in state\n",
       "1                  1. White non-Hispanic (1948-2012)  ...  9. no Post IW; Washington D.C.\n",
       "2                  1. White non-Hispanic (1948-2012)  ...    1. U.S. Senate race in state\n",
       "3                  1. White non-Hispanic (1948-2012)  ...    1. U.S. Senate race in state\n",
       "4                  1. White non-Hispanic (1948-2012)  ...    1. U.S. Senate race in state\n",
       "\n",
       "[5 rows x 18 columns]"
      ]
     },
     "execution_count": 114,
     "metadata": {
      "tags": []
     },
     "output_type": "execute_result"
    }
   ],
   "source": [
    "df = pd.read_csv('anes.csv')\n",
    "df.head()"
   ]
  },
  {
   "cell_type": "code",
   "execution_count": 115,
   "metadata": {
    "colab": {
     "base_uri": "https://localhost:8080/",
     "height": 34
    },
    "id": "-pC3F6Cbzswn",
    "outputId": "fd053707-9fe5-4b7e-f119-8cf2108f003e"
   },
   "outputs": [
    {
     "data": {
      "text/plain": [
       "(8236, 18)"
      ]
     },
     "execution_count": 115,
     "metadata": {
      "tags": []
     },
     "output_type": "execute_result"
    }
   ],
   "source": [
    "df.shape"
   ]
  },
  {
   "cell_type": "markdown",
   "metadata": {
    "id": "uKOmBoMLzswq"
   },
   "source": [
    "Let us check if there are any missing values in the dataset using [`isnull()`](https://pandas.pydata.org/pandas-docs/stable/reference/api/pandas.DataFrame.isnull.html) and [`sum()`](https://pandas.pydata.org/pandas-docs/stable/reference/api/pandas.DataFrame.sum.html) functions piped one after the other."
   ]
  },
  {
   "cell_type": "code",
   "execution_count": 116,
   "metadata": {
    "colab": {
     "base_uri": "https://localhost:8080/",
     "height": 340
    },
    "id": "EuGGzNg4zswq",
    "outputId": "607a5dd9-79e4-4b56-caad-ad9cc9809ebb"
   },
   "outputs": [
    {
     "data": {
      "text/plain": [
       "race             0\n",
       "incgroup         0\n",
       "education        0\n",
       "classpercep      0\n",
       "votenat          0\n",
       "votepresid       0\n",
       "votecong         0\n",
       "voteincumb       0\n",
       "prevote          0\n",
       "voteintactual    0\n",
       "voterpref        0\n",
       "novoterpref      0\n",
       "mobiliz          0\n",
       "poldiscuss       0\n",
       "jobscale         0\n",
       "numcandidat      0\n",
       "close            0\n",
       "staterace        0\n",
       "dtype: int64"
      ]
     },
     "execution_count": 116,
     "metadata": {
      "tags": []
     },
     "output_type": "execute_result"
    }
   ],
   "source": [
    "df.isnull().sum()"
   ]
  },
  {
   "cell_type": "markdown",
   "metadata": {
    "id": "1hd9TYuwzsws"
   },
   "source": [
    "No missing values in the dataset!"
   ]
  },
  {
   "cell_type": "markdown",
   "metadata": {
    "id": "wImSSP_Jzsws"
   },
   "source": [
    "Let us check the different columns in the dataset."
   ]
  },
  {
   "cell_type": "code",
   "execution_count": 117,
   "metadata": {
    "colab": {
     "base_uri": "https://localhost:8080/",
     "height": 102
    },
    "id": "24lLJ0kizswt",
    "outputId": "513aae03-55eb-4c14-9592-23c50690d9a1"
   },
   "outputs": [
    {
     "data": {
      "text/plain": [
       "Index(['race', 'incgroup', 'education', 'classpercep', 'votenat', 'votepresid',\n",
       "       'votecong', 'voteincumb', 'prevote', 'voteintactual', 'voterpref',\n",
       "       'novoterpref', 'mobiliz', 'poldiscuss', 'jobscale', 'numcandidat',\n",
       "       'close', 'staterace'],\n",
       "      dtype='object')"
      ]
     },
     "execution_count": 117,
     "metadata": {
      "tags": []
     },
     "output_type": "execute_result"
    }
   ],
   "source": [
    "df.columns"
   ]
  },
  {
   "cell_type": "markdown",
   "metadata": {
    "id": "h0f1_63Dzswv"
   },
   "source": [
    "* race : Race-ethnicity summary, 7 categories\n",
    "* incgroup : DEMOGRAPHICS: Respondent Family - Income Group\n",
    "* education : DEMOGRAPHICS: Respondent - Education, 7-categories\n",
    "* classpercep : DEMOGRAPHICS: Respondent - Average or Upper Middle/Working Class \n",
    "* votenat : ELECTION: Did Respondent Vote in the National Elections\n",
    "* votepresid : ELECTION: Vote for President- Major Parties and Other\n",
    "* votecong : ELECTION: Vote for Congressman\n",
    "* voteincumb : ELECTION: Did Respondent Vote for Incumbent U.S. House Candidate\n",
    "* prevote : ELECTION: Respondent Pre-election Intent for Vote for President\n",
    "* voteintactual : ELECTION: Intended Presidential Vote versus Actual Presidential Vote \n",
    "* voterpref : ELECTION: Voter Strength of Preference - Presidential Cand \n",
    "* novoterpref : ELECTION: Nonvoter Strength of Preference- Presidential Cand \n",
    "* mobiliz : MOBILIZATION: Respondent Try to Influence the Vote of Others During the Campaign\n",
    "* poldiscuss : POLITICAL ENGAGEMENT: Respondent Discuss Politics with Family and Friends\n",
    "* jobscale : ISSUES: Guaranteed Jobs and Income Scale\n",
    "* numcandidat: ELECTION/RACE DESCRIPTION: Number of Candidates in U.S. House Race\n",
    "* close : POLITICAL ENGAGEMENT: Which Presidential Race in State Be Close\n",
    "* staterace : ELECTION/RACE DESCRIPTION: Senate Race in State"
   ]
  },
  {
   "cell_type": "markdown",
   "metadata": {
    "id": "3-lJH7a0zswv"
   },
   "source": [
    "Let us see how many respondents voted in the national elections."
   ]
  },
  {
   "cell_type": "code",
   "execution_count": 118,
   "metadata": {
    "colab": {
     "base_uri": "https://localhost:8080/",
     "height": 85
    },
    "id": "gTH2FBp8zsww",
    "outputId": "66a69c27-48fa-49fc-f03b-b78b8b491f8b"
   },
   "outputs": [
    {
     "data": {
      "text/plain": [
       "2. Yes, voted                                      6007\n",
       "1. No, did not vote                                1605\n",
       "0. DK; NA; no Post IW; refused to say if voted;     624\n",
       "Name: votenat, dtype: int64"
      ]
     },
     "execution_count": 118,
     "metadata": {
      "tags": []
     },
     "output_type": "execute_result"
    }
   ],
   "source": [
    "df['votenat'].value_counts()"
   ]
  },
  {
   "cell_type": "markdown",
   "metadata": {
    "id": "qOtQFUw6zswy"
   },
   "source": [
    "This can be represented as a piechart:"
   ]
  },
  {
   "cell_type": "code",
   "execution_count": 119,
   "metadata": {
    "colab": {
     "base_uri": "https://localhost:8080/",
     "height": 264
    },
    "id": "WRdvC2WLzswy",
    "outputId": "9e189a58-827a-481b-a4de-d502c2a16fb0"
   },
   "outputs": [
    {
     "data": {
      "image/png": "[encoded data removed]",
      "text/plain": [
       "<Figure size 432x288 with 1 Axes>"
      ]
     },
     "metadata": {
      "tags": []
     },
     "output_type": "display_data"
    }
   ],
   "source": [
    "plt.axis('equal') \n",
    "plt.title(\"Respondents voted or not in the national elections\")\n",
    "plt.pie(df['votenat'].value_counts(), labels=('Yes', 'No', 'NA'));"
   ]
  },
  {
   "cell_type": "markdown",
   "metadata": {
    "id": "Ntq8PKuOzsw0"
   },
   "source": [
    "Let us check all the values along with their counts in all the columns of the dataset."
   ]
  },
  {
   "cell_type": "code",
   "execution_count": 120,
   "metadata": {
    "colab": {
     "base_uri": "https://localhost:8080/",
     "height": 1000
    },
    "id": "_4sb2P7Dzsw1",
    "outputId": "3d408739-edcd-4b43-feac-ad2640b6cf97",
    "scrolled": false
   },
   "outputs": [
    {
     "name": "stdout",
     "output_type": "stream",
     "text": [
      "Column: race\n",
      "1. White non-Hispanic (1948-2012)                               4656\n",
      "2. Black non-Hispanic (1948-2012)                               1587\n",
      "5. Hispanic (1966-2012)                                         1532\n",
      "6. Other or multiple races, non-Hispanic (1968-2012)             241\n",
      "3. Asian or Pacific Islander, non-Hispanic (1966-2012)           125\n",
      "9. Missing                                                        48\n",
      "4. American Indian or Alaska Native non-Hispanic (1966-2012)      47\n",
      "Name: race, dtype: int64\n",
      "\n",
      "Column: incgroup\n",
      "3. 34 to 67 percentile                     2832\n",
      "4. 68 to 95 percentile                     1772\n",
      "1. 0 to 16 percentile                      1583\n",
      "2. 17 to 33 percentile                     1323\n",
      "0. DK; NA; refused to answer; no Pre IW     382\n",
      "5. 96 to 100 percentile                     344\n",
      "Name: incgroup, dtype: int64\n",
      "\n",
      "Column: education\n",
      "5. Some college, no degree; junior/community college           2324\n",
      "3. 12 grades, diploma or equivalency                           2206\n",
      "6. BA level degrees                                            1461\n",
      "7. Advanced degrees incl. LLB                                   856\n",
      "2. 9-12 grades ('high school'), no diploma/equivalency          734\n",
      "4. 12 grades, diploma or equivalency plus non-academic          346\n",
      "1. 8 grades or less ('grade school')                            227\n",
      "9. NA; RF; no Pre IW; short-form 'new' Cross Section (1992)      78\n",
      "8. DK                                                             4\n",
      "Name: education, dtype: int64\n",
      "\n",
      "Column: classpercep\n",
      "5. Middle class--NA average or upper                 2359\n",
      "1. Average working                                   1803\n",
      "2. Working--NA average or upper                      1658\n",
      "4. Average middle                                    1268\n",
      "9. DK; NA; other (incl. refused to accept idea of     461\n",
      "3. Upper working                                      374\n",
      "6. Upper middle                                       313\n",
      "Name: classpercep, dtype: int64\n",
      "\n",
      "Column: votenat\n",
      "2. Yes, voted                                      6007\n",
      "1. No, did not vote                                1605\n",
      "0. DK; NA; no Post IW; refused to say if voted;     624\n",
      "Name: votenat, dtype: int64\n",
      "\n",
      "Column: votepresid\n",
      "1. Democrat                                                 3521\n",
      "0. Did not vote; DK/NA if voted; refused to say if          2366\n",
      "2. Republican                                               2206\n",
      "3. Other (incl. 3d/minor party candidates and write-ins)     143\n",
      "Name: votepresid, dtype: int64\n",
      "\n",
      "Column: votecong\n",
      "0. DK; NA; R did not vote; R refused to say if    3356\n",
      "1. Democrat                                       2803\n",
      "2. Republican                                     2077\n",
      "Name: votecong, dtype: int64\n",
      "\n",
      "Column: voteincumb\n",
      "9. R did not vote or DK/NA if voted; R voted but           4085\n",
      "1. R's Vote: for incumbent candidate in race involving     2762\n",
      "2. R's Vote: for candidate other than incumbent in race    1389\n",
      "Name: voteincumb, dtype: int64\n",
      "\n",
      "Column: prevote\n",
      "1. Democratic candidate (with or without qualifications,    3801\n",
      "2. Republican candidate (with or without qualifications,    2312\n",
      "0. DK (1964 only); NA; no Pre IW; DK/NA/RF (1952            1131\n",
      "4. R does not intend to vote (incl. 'no, qualified' if       498\n",
      "3. Undecided; DK (except 1964)                               269\n",
      "9. Other candidate                                           225\n",
      "Name: prevote, dtype: int64\n",
      "\n",
      "Column: voteintactual\n",
      "1. INTENDED Democratic: voted Democratic              2976\n",
      "0. NA who will vote for; no Pre IW; no Post IW;       2152\n",
      "9. INTENDED Republican: voted Republican              1840\n",
      "4. INTENDED Democratic: did not vote/voted 'other'     483\n",
      "6. INTENDED Republican: did not vote/voted 'other'     230\n",
      "5. INTENDED undecided: did not vote/voted 'other'      185\n",
      "2. INTENDED undecided: voted Democratic;               149\n",
      "8. INTENDED undecided: voted Republican; INTENDED      100\n",
      "3. INTENDED Republican: voted Democratic                68\n",
      "7. INTENDED Democratic: voted Republican                53\n",
      "Name: voteintactual, dtype: int64\n",
      "\n",
      "Column: voterpref\n",
      "1. Strong                                                4548\n",
      "9. NA; no Post IW; abbrev. telephone IW (1984)           2216\n",
      "5. Not strong                                             933\n",
      "0. R did not vote or DK/NA/refused to say if voted; R     538\n",
      "8. DK                                                       1\n",
      "Name: voterpref, dtype: int64\n",
      "\n",
      "Column: novoterpref\n",
      "0. R voted or DK/NA/refused to say if voted (for    6471\n",
      "1. Preference: Democrat                              724\n",
      "9. DK; NA; refused; no Post IW                       631\n",
      "2. Preference: Republican                            260\n",
      "7. No preference (1968 and later)                    137\n",
      "3. Preference: Other                                  13\n",
      "Name: novoterpref, dtype: int64\n",
      "\n",
      "Column: mobiliz\n",
      "1. No                                         4410\n",
      "2. Yes                                        3198\n",
      "0. DK; NA; no Post IW; form III,IV (1972);     628\n",
      "Name: mobiliz, dtype: int64\n",
      "\n",
      "Column: poldiscuss\n",
      "1. Yes               4719\n",
      "5. No                1817\n",
      "9. NA; no Post IW    1698\n",
      "8. DK                   2\n",
      "Name: poldiscuss, dtype: int64\n",
      "\n",
      "Column: jobscale\n",
      "4                                                        1459\n",
      "0. NA; no Post IW; form A (1986); version NEW (2008);    1178\n",
      "5                                                        1016\n",
      "6                                                         969\n",
      "3                                                         829\n",
      "7. Government let each person get ahead on his own        808\n",
      "1. Government see to job and good standard of living      781\n",
      "2                                                         638\n",
      "9. DK; haven't thought much about it                      558\n",
      "Name: jobscale, dtype: int64\n",
      "\n",
      "Column: numcandidat\n",
      "2. Two or more major party candidates                               7009\n",
      "1. Major party candidate, unopposed by 2nd major party candidate     759\n",
      "9. NA; no Post IW; abbrev. telephone IW (1984);                      468\n",
      "Name: numcandidat, dtype: int64\n",
      "\n",
      "Column: close\n",
      "1. Close race                                        4238\n",
      "3. Win by quite a bit                                3804\n",
      "8. DK; depends                                        157\n",
      "9. NA; NA who R thinks will carry R's state (9 in      37\n",
      "Name: close, dtype: int64\n",
      "\n",
      "Column: staterace\n",
      "9. no Post IW; Washington D.C.     4327\n",
      "1. U.S. Senate race in state       2558\n",
      "2. No U.S. Senate race in state    1351\n",
      "Name: staterace, dtype: int64\n",
      "\n"
     ]
    }
   ],
   "source": [
    "for col in df.columns:\n",
    "    print(\"Column:\", col)\n",
    "    print(df[col].value_counts(), sep=\"\\n\")\n",
    "    print()"
   ]
  },
  {
   "cell_type": "markdown",
   "metadata": {
    "id": "IXXHhQHUzsw3"
   },
   "source": [
    "Note: \n",
    "* R stands for Respondent\n",
    "* DK stands for Don't Know\n",
    "* NA stands for Not Applicable or Not Available\n",
    "* RF stands for refused to say\n",
    "* Pre IW stands for Pre-election interviews (two months prior to elections)\n",
    "* Post IW stands for Pre-election reinterviewing\n",
    "\n",
    "Please take a close look at the columns. "
   ]
  },
  {
   "cell_type": "markdown",
   "metadata": {
    "id": "gyQADYAazsw3"
   },
   "source": [
    "Notice that all the categories are represented by numerals that are in single digit. We use regular expressions package `re` to extract the numerical categories for the columns. We also make a copy `old_df` before processing the original dataframe `df`. Please see the exercise notebook from the previous session for a detailed step-by-step explanation of this process."
   ]
  },
  {
   "cell_type": "code",
   "execution_count": 121,
   "metadata": {
    "id": "8xT2EoPfzsw3"
   },
   "outputs": [],
   "source": [
    "import re\n",
    "\n",
    "def extract_category(x):\n",
    "    cat = re.findall(\"\\d\", x)[0]\n",
    "    return cat\n",
    "\n",
    "old_df = df.copy() \n",
    "for column in df.columns:\n",
    "    df[column] = df[column].map(extract_category).astype('category')"
   ]
  },
  {
   "cell_type": "markdown",
   "metadata": {
    "id": "FxKAw64xzsw5"
   },
   "source": [
    "Check again whether all the columns are converted to categories."
   ]
  },
  {
   "cell_type": "code",
   "execution_count": 122,
   "metadata": {
    "colab": {
     "base_uri": "https://localhost:8080/",
     "height": 224
    },
    "id": "vLqkeyMSzsw6",
    "outputId": "46d38da0-a3f0-458b-ee85-5209a4eb59e3"
   },
   "outputs": [
    {
     "data": {
      "text/html": [
       "<div>\n",
       "<style scoped>\n",
       "    .dataframe tbody tr th:only-of-type {\n",
       "        vertical-align: middle;\n",
       "    }\n",
       "\n",
       "    .dataframe tbody tr th {\n",
       "        vertical-align: top;\n",
       "    }\n",
       "\n",
       "    .dataframe thead th {\n",
       "        text-align: right;\n",
       "    }\n",
       "</style>\n",
       "<table border=\"1\" class=\"dataframe\">\n",
       "  <thead>\n",
       "    <tr style=\"text-align: right;\">\n",
       "      <th></th>\n",
       "      <th>race</th>\n",
       "      <th>incgroup</th>\n",
       "      <th>education</th>\n",
       "      <th>classpercep</th>\n",
       "      <th>votenat</th>\n",
       "      <th>votepresid</th>\n",
       "      <th>votecong</th>\n",
       "      <th>voteincumb</th>\n",
       "      <th>prevote</th>\n",
       "      <th>voteintactual</th>\n",
       "      <th>voterpref</th>\n",
       "      <th>novoterpref</th>\n",
       "      <th>mobiliz</th>\n",
       "      <th>poldiscuss</th>\n",
       "      <th>jobscale</th>\n",
       "      <th>numcandidat</th>\n",
       "      <th>close</th>\n",
       "      <th>staterace</th>\n",
       "    </tr>\n",
       "  </thead>\n",
       "  <tbody>\n",
       "    <tr>\n",
       "      <th>0</th>\n",
       "      <td>6</td>\n",
       "      <td>4</td>\n",
       "      <td>5</td>\n",
       "      <td>4</td>\n",
       "      <td>2</td>\n",
       "      <td>2</td>\n",
       "      <td>2</td>\n",
       "      <td>9</td>\n",
       "      <td>2</td>\n",
       "      <td>9</td>\n",
       "      <td>5</td>\n",
       "      <td>0</td>\n",
       "      <td>2</td>\n",
       "      <td>1</td>\n",
       "      <td>7</td>\n",
       "      <td>2</td>\n",
       "      <td>3</td>\n",
       "      <td>1</td>\n",
       "    </tr>\n",
       "    <tr>\n",
       "      <th>1</th>\n",
       "      <td>1</td>\n",
       "      <td>3</td>\n",
       "      <td>3</td>\n",
       "      <td>1</td>\n",
       "      <td>0</td>\n",
       "      <td>0</td>\n",
       "      <td>0</td>\n",
       "      <td>9</td>\n",
       "      <td>2</td>\n",
       "      <td>0</td>\n",
       "      <td>9</td>\n",
       "      <td>9</td>\n",
       "      <td>0</td>\n",
       "      <td>9</td>\n",
       "      <td>9</td>\n",
       "      <td>9</td>\n",
       "      <td>3</td>\n",
       "      <td>9</td>\n",
       "    </tr>\n",
       "    <tr>\n",
       "      <th>2</th>\n",
       "      <td>1</td>\n",
       "      <td>4</td>\n",
       "      <td>6</td>\n",
       "      <td>4</td>\n",
       "      <td>2</td>\n",
       "      <td>2</td>\n",
       "      <td>2</td>\n",
       "      <td>9</td>\n",
       "      <td>2</td>\n",
       "      <td>9</td>\n",
       "      <td>1</td>\n",
       "      <td>0</td>\n",
       "      <td>2</td>\n",
       "      <td>1</td>\n",
       "      <td>5</td>\n",
       "      <td>2</td>\n",
       "      <td>3</td>\n",
       "      <td>1</td>\n",
       "    </tr>\n",
       "    <tr>\n",
       "      <th>3</th>\n",
       "      <td>1</td>\n",
       "      <td>4</td>\n",
       "      <td>3</td>\n",
       "      <td>1</td>\n",
       "      <td>1</td>\n",
       "      <td>0</td>\n",
       "      <td>0</td>\n",
       "      <td>9</td>\n",
       "      <td>2</td>\n",
       "      <td>6</td>\n",
       "      <td>0</td>\n",
       "      <td>2</td>\n",
       "      <td>1</td>\n",
       "      <td>5</td>\n",
       "      <td>5</td>\n",
       "      <td>2</td>\n",
       "      <td>1</td>\n",
       "      <td>1</td>\n",
       "    </tr>\n",
       "    <tr>\n",
       "      <th>4</th>\n",
       "      <td>1</td>\n",
       "      <td>4</td>\n",
       "      <td>6</td>\n",
       "      <td>4</td>\n",
       "      <td>2</td>\n",
       "      <td>2</td>\n",
       "      <td>1</td>\n",
       "      <td>9</td>\n",
       "      <td>2</td>\n",
       "      <td>9</td>\n",
       "      <td>1</td>\n",
       "      <td>0</td>\n",
       "      <td>1</td>\n",
       "      <td>1</td>\n",
       "      <td>9</td>\n",
       "      <td>2</td>\n",
       "      <td>3</td>\n",
       "      <td>1</td>\n",
       "    </tr>\n",
       "  </tbody>\n",
       "</table>\n",
       "</div>"
      ],
      "text/plain": [
       "  race incgroup education classpercep  ... jobscale numcandidat close staterace\n",
       "0    6        4         5           4  ...        7           2     3         1\n",
       "1    1        3         3           1  ...        9           9     3         9\n",
       "2    1        4         6           4  ...        5           2     3         1\n",
       "3    1        4         3           1  ...        5           2     1         1\n",
       "4    1        4         6           4  ...        9           2     3         1\n",
       "\n",
       "[5 rows x 18 columns]"
      ]
     },
     "execution_count": 122,
     "metadata": {
      "tags": []
     },
     "output_type": "execute_result"
    }
   ],
   "source": [
    "df.head()"
   ]
  },
  {
   "cell_type": "markdown",
   "metadata": {
    "id": "01TiySzWzsw7"
   },
   "source": [
    "Now, we have the data cleaned up, you should proceed to work on this dataset on your own. Following are some ideas to guide you in the process. Please feel free to reach out to the instructor/TAs to ask for help/discuss.\n",
    "\n",
    "Exploratory data analysis of the features using graphs and other means:\n",
    "* Intented vs actual vote for presidential canditate \n",
    "* How race, education, income group, etc. affect the vote?\n",
    "\n",
    "Build a neural network to predict:\n",
    "* whether a respondent voted or not for the national election (Target for atleast 75% accuracy on the validation set)\n",
    "* vote for president (Target for atleast 70% accuracy on the validation set)\n",
    "* vote for congressman (optional)\n",
    "\n",
    "Tips for feature engineering:\n",
    "* Start with a basic model with minimal features \n",
    "* Try adding/removing features to see how it affects the model. \n",
    "* Try removing rows with certain conditions. For example, while building the prediction model for presidential election:\n",
    "    * you can use `df = df[df['votenat']=='2']` to filter only the respondents who voted in the elections. \n",
    "    * you can simplify the model by restricting to respondents that voted either Republican or Democratic.\n",
    "* Use creativity in feature engineering \n",
    "\n",
    "***Important note: Beware of Data Leakage while building models:***\n",
    "* Do not use a feature that inadvertently reveal information about the target variable that was not supposed to be known. For example, for predicting the target variable `votepresid`, you cannot use `votecong` and vice versa.  \n",
    "\n",
    "At the end, make a copy of the notebook and clean it all up to present the analysis and model in a clear and coherent manner. It would be a great idea to share your work as a blog using [Github Pages](https://help.github.com/en/articles/what-is-github-pages).\n",
    "\n",
    "For your reference:\n",
    "* race : Race-ethnicity summary, 7 categories\n",
    "* incgroup : DEMOGRAPHICS: Respondent Family - Income Group\n",
    "* education : DEMOGRAPHICS: Respondent - Education, 7-categories\n",
    "* classpercep : DEMOGRAPHICS: Respondent - Average or Upper Middle/Working Class \n",
    "* votenat : ELECTION: Did Respondent Vote in the National Elections\n",
    "* votepresid : ELECTION: Vote for President- Major Parties and Other\n",
    "* votecong : ELECTION: Vote for Congressman\n",
    "* voteincumb : ELECTION: Did Respondent Vote for Incumbent U.S. House Candidate\n",
    "* prevote : ELECTION: Respondent Pre-election Intent for Vote for President\n",
    "* voteintactual : ELECTION: Intended Presidential Vote versus Actual Presidential Vote \n",
    "* voterpref : ELECTION: Voter Strength of Preference - Presidential Cand \n",
    "* novoterpref : ELECTION: Nonvoter Strength of Preference- Presidential Cand \n",
    "* mobiliz : MOBILIZATION: Respondent Try to Influence the Vote of Others During the Campaign\n",
    "* poldiscuss : POLITICAL ENGAGEMENT: Respondent Discuss Politics with Family and Friends\n",
    "* jobscale : ISSUES: Guaranteed Jobs and Income Scale\n",
    "* numcandidat: ELECTION/RACE DESCRIPTION: Number of Candidates in U.S. House Race\n",
    "* close : POLITICAL ENGAGEMENT: Which Presidential Race in State Be Close\n",
    "* staterace : ELECTION/RACE DESCRIPTION: Senate Race in State\n",
    "\n",
    "Note: \n",
    "* R stands for Respondent\n",
    "* DK stands for Don't Know\n",
    "* NA stands for Not Applicable or Not Available\n",
    "* RF stands for refused to say\n",
    "* Pre IW stands for Pre-election interviews (two months prior to elections)\n",
    "* Post IW stands for Pre-election reinterviewing\n",
    "\n",
    "\n",
    "Steps to build a model:\n",
    "1. Extract `X` (the relevant features) and `y` (the target) from the dataframe `df`\n",
    "2. Split the pair `(X, y)` into training and validation sets for cross-validation\n",
    "3. Import the relevant modules\n",
    "4. Declare/define the neural network model and add the layers\n",
    "5. Compile the model \n",
    "6. Fit/train the model \n",
    "7. Score the predictions of the classifier on the training and validation sets.\n",
    "8. Try out with different number of nodes and hidden layers\n",
    "9. Try out with different features\n",
    "\n",
    "We extract our input features `X` and the target output `y` from the dataframe `df`:"
   ]
  },
  {
   "cell_type": "code",
   "execution_count": 123,
   "metadata": {
    "id": "XwNZSqPJzsw8"
   },
   "outputs": [],
   "source": [
    "df2 = df[df['votenat']=='2'].copy # Slice to get the respondents who voted in the elections\n",
    "X = df[['race', 'education', 'incgroup', 'classpercep']] # Please add/remove columns as you see fit\n",
    "Y = df[['votepresid']] # Please change the target variable if you'd like"
   ]
  },
  {
   "cell_type": "code",
   "execution_count": 124,
   "metadata": {
    "id": "Tu9Tm93Qzsw-"
   },
   "outputs": [],
   "source": [
    "from sklearn.preprocessing import LabelEncoder\n",
    "LE = LabelEncoder()\n",
    "LE.fit(Y)\n",
    "encoded_Y = LE.transform(Y)\n",
    "\n",
    "from sklearn.preprocessing import OneHotEncoder\n",
    "OHE = OneHotEncoder()\n",
    "OHE.fit(X)\n",
    "encoded_X = OHE.transform(X)\n",
    "\n",
    "# Convert integers to dummy variables (i.e. one hot encoded)\n",
    "from keras.utils import np_utils\n",
    "dummy_y = np_utils.to_categorical(encoded_Y)"
   ]
  },
  {
   "cell_type": "markdown",
   "metadata": {
    "id": "dexW9xSCzsxA"
   },
   "source": [
    "Now we want to split the data into training and testing sets. This is for model cross-validation, that is once our network is trained using training data, we want to measure its performance on the unseen validation data."
   ]
  },
  {
   "cell_type": "code",
   "execution_count": 125,
   "metadata": {
    "id": "a2sTBnoIzsxA"
   },
   "outputs": [],
   "source": [
    "from sklearn.model_selection import train_test_split\n",
    "X_train, X_valid, y_train, y_valid = train_test_split(encoded_X, dummy_y, random_state=0)"
   ]
  },
  {
   "cell_type": "markdown",
   "metadata": {
    "id": "J1isUdDWzsxC"
   },
   "source": [
    "We import the some commonly used functions from [Keras](https://keras.io/) that can be used to build the neural network."
   ]
  },
  {
   "cell_type": "code",
   "execution_count": 126,
   "metadata": {
    "id": "2GyulBxYzsxC"
   },
   "outputs": [],
   "source": [
    "from keras.models import Sequential\n",
    "from keras.layers import Dense\n",
    "from keras.optimizers import SGD\n",
    "from keras import losses"
   ]
  },
  {
   "cell_type": "markdown",
   "metadata": {
    "id": "fUUioedqzsxE"
   },
   "source": [
    "Please check the notebook \"More on Keras\" for reference and train the neural network. Below is an example model that is not optimal."
   ]
  },
  {
   "cell_type": "code",
   "execution_count": 127,
   "metadata": {
    "colab": {
     "base_uri": "https://localhost:8080/",
     "height": 221
    },
    "id": "VdW_ozRHzsxE",
    "outputId": "c3f2796b-4b90-44ef-cfc3-29e34611e9a7"
   },
   "outputs": [
    {
     "name": "stdout",
     "output_type": "stream",
     "text": [
      "Model: \"sequential_11\"\n",
      "_________________________________________________________________\n",
      "Layer (type)                 Output Shape              Param #   \n",
      "=================================================================\n",
      "dense_20 (Dense)             (None, 6)                 180       \n",
      "_________________________________________________________________\n",
      "dense_21 (Dense)             (None, 4)                 28        \n",
      "=================================================================\n",
      "Total params: 208\n",
      "Trainable params: 208\n",
      "Non-trainable params: 0\n",
      "_________________________________________________________________\n"
     ]
    }
   ],
   "source": [
    "input_dim = X_train.shape[1]\n",
    "model = Sequential()\n",
    "model.add(Dense(units = 6, input_dim = input_dim, activation=\"relu\")) # Hidden layer\n",
    "model.add(Dense(units = 4, activation = \"softmax\")) # Output Layer\n",
    "model.summary()"
   ]
  },
  {
   "cell_type": "code",
   "execution_count": 128,
   "metadata": {
    "colab": {
     "base_uri": "https://localhost:8080/",
     "height": 1000
    },
    "id": "Xt5EmAYyzsxG",
    "outputId": "267bab9a-f405-467b-fe84-e4e4b9812ced"
   },
   "outputs": [
    {
     "name": "stdout",
     "output_type": "stream",
     "text": [
      "Epoch 1/70\n",
      "194/194 [==============================] - 0s 1ms/step - loss: 1.3336 - accuracy: 0.3320\n",
      "Epoch 2/70\n",
      "194/194 [==============================] - 0s 1ms/step - loss: 1.2144 - accuracy: 0.4340\n",
      "Epoch 3/70\n",
      "194/194 [==============================] - 0s 1ms/step - loss: 1.1645 - accuracy: 0.4389\n",
      "Epoch 4/70\n",
      "194/194 [==============================] - 0s 1ms/step - loss: 1.1337 - accuracy: 0.4449\n",
      "Epoch 5/70\n",
      "194/194 [==============================] - 0s 1ms/step - loss: 1.1108 - accuracy: 0.4526\n",
      "Epoch 6/70\n",
      "194/194 [==============================] - 0s 1ms/step - loss: 1.0914 - accuracy: 0.4651\n",
      "Epoch 7/70\n",
      "194/194 [==============================] - 0s 1ms/step - loss: 1.0757 - accuracy: 0.4682\n",
      "Epoch 8/70\n",
      "194/194 [==============================] - 0s 1ms/step - loss: 1.0632 - accuracy: 0.4751\n",
      "Epoch 9/70\n",
      "194/194 [==============================] - 0s 1ms/step - loss: 1.0536 - accuracy: 0.4794\n",
      "Epoch 10/70\n",
      "194/194 [==============================] - 0s 1ms/step - loss: 1.0460 - accuracy: 0.4797\n",
      "Epoch 11/70\n",
      "194/194 [==============================] - 0s 1ms/step - loss: 1.0398 - accuracy: 0.4816\n",
      "Epoch 12/70\n",
      "194/194 [==============================] - 0s 1ms/step - loss: 1.0344 - accuracy: 0.4855\n",
      "Epoch 13/70\n",
      "194/194 [==============================] - 0s 1ms/step - loss: 1.0301 - accuracy: 0.4858\n",
      "Epoch 14/70\n",
      "194/194 [==============================] - 0s 1ms/step - loss: 1.0267 - accuracy: 0.4883\n",
      "Epoch 15/70\n",
      "194/194 [==============================] - 0s 1ms/step - loss: 1.0238 - accuracy: 0.4920\n",
      "Epoch 16/70\n",
      "194/194 [==============================] - 0s 1ms/step - loss: 1.0213 - accuracy: 0.4981\n",
      "Epoch 17/70\n",
      "194/194 [==============================] - 0s 1ms/step - loss: 1.0191 - accuracy: 0.4993\n",
      "Epoch 18/70\n",
      "194/194 [==============================] - 0s 1ms/step - loss: 1.0175 - accuracy: 0.5091\n",
      "Epoch 19/70\n",
      "194/194 [==============================] - 0s 1ms/step - loss: 1.0157 - accuracy: 0.5095\n",
      "Epoch 20/70\n",
      "194/194 [==============================] - 0s 1ms/step - loss: 1.0144 - accuracy: 0.5127\n",
      "Epoch 21/70\n",
      "194/194 [==============================] - 0s 1ms/step - loss: 1.0131 - accuracy: 0.5104\n",
      "Epoch 22/70\n",
      "194/194 [==============================] - 0s 1ms/step - loss: 1.0120 - accuracy: 0.5113\n",
      "Epoch 23/70\n",
      "194/194 [==============================] - 0s 1ms/step - loss: 1.0109 - accuracy: 0.5116\n",
      "Epoch 24/70\n",
      "194/194 [==============================] - 0s 1ms/step - loss: 1.0098 - accuracy: 0.5129\n",
      "Epoch 25/70\n",
      "194/194 [==============================] - 0s 1ms/step - loss: 1.0088 - accuracy: 0.5134\n",
      "Epoch 26/70\n",
      "194/194 [==============================] - 0s 1ms/step - loss: 1.0081 - accuracy: 0.5151\n",
      "Epoch 27/70\n",
      "194/194 [==============================] - 0s 1ms/step - loss: 1.0073 - accuracy: 0.5145\n",
      "Epoch 28/70\n",
      "194/194 [==============================] - 0s 1ms/step - loss: 1.0066 - accuracy: 0.5132\n",
      "Epoch 29/70\n",
      "194/194 [==============================] - 0s 1ms/step - loss: 1.0062 - accuracy: 0.5174\n",
      "Epoch 30/70\n",
      "194/194 [==============================] - 0s 1ms/step - loss: 1.0055 - accuracy: 0.5151\n",
      "Epoch 31/70\n",
      "194/194 [==============================] - 0s 1ms/step - loss: 1.0051 - accuracy: 0.5145\n",
      "Epoch 32/70\n",
      "194/194 [==============================] - 0s 1ms/step - loss: 1.0044 - accuracy: 0.5161\n",
      "Epoch 33/70\n",
      "194/194 [==============================] - 0s 1ms/step - loss: 1.0037 - accuracy: 0.5153\n",
      "Epoch 34/70\n",
      "194/194 [==============================] - 0s 1ms/step - loss: 1.0036 - accuracy: 0.5171\n",
      "Epoch 35/70\n",
      "194/194 [==============================] - 0s 998us/step - loss: 1.0030 - accuracy: 0.5151\n",
      "Epoch 36/70\n",
      "194/194 [==============================] - 0s 993us/step - loss: 1.0027 - accuracy: 0.5172\n",
      "Epoch 37/70\n",
      "194/194 [==============================] - 0s 1ms/step - loss: 1.0022 - accuracy: 0.5177\n",
      "Epoch 38/70\n",
      "194/194 [==============================] - 0s 1ms/step - loss: 1.0017 - accuracy: 0.5185\n",
      "Epoch 39/70\n",
      "194/194 [==============================] - 0s 990us/step - loss: 1.0014 - accuracy: 0.5177\n",
      "Epoch 40/70\n",
      "194/194 [==============================] - 0s 1ms/step - loss: 1.0013 - accuracy: 0.5203\n",
      "Epoch 41/70\n",
      "194/194 [==============================] - 0s 1ms/step - loss: 1.0009 - accuracy: 0.5182\n",
      "Epoch 42/70\n",
      "194/194 [==============================] - 0s 1ms/step - loss: 1.0005 - accuracy: 0.5172\n",
      "Epoch 43/70\n",
      "194/194 [==============================] - 0s 1ms/step - loss: 1.0003 - accuracy: 0.5193\n",
      "Epoch 44/70\n",
      "194/194 [==============================] - 0s 1ms/step - loss: 0.9997 - accuracy: 0.5171\n",
      "Epoch 45/70\n",
      "194/194 [==============================] - 0s 1ms/step - loss: 0.9999 - accuracy: 0.5197\n",
      "Epoch 46/70\n",
      "194/194 [==============================] - 0s 1ms/step - loss: 0.9995 - accuracy: 0.5205\n",
      "Epoch 47/70\n",
      "194/194 [==============================] - 0s 1ms/step - loss: 0.9992 - accuracy: 0.5219\n",
      "Epoch 48/70\n",
      "194/194 [==============================] - 0s 1ms/step - loss: 0.9992 - accuracy: 0.5184\n",
      "Epoch 49/70\n",
      "194/194 [==============================] - 0s 1ms/step - loss: 0.9988 - accuracy: 0.5174\n",
      "Epoch 50/70\n",
      "194/194 [==============================] - 0s 1ms/step - loss: 0.9987 - accuracy: 0.5181\n",
      "Epoch 51/70\n",
      "194/194 [==============================] - 0s 1ms/step - loss: 0.9985 - accuracy: 0.5192\n",
      "Epoch 52/70\n",
      "194/194 [==============================] - 0s 1ms/step - loss: 0.9982 - accuracy: 0.5195\n",
      "Epoch 53/70\n",
      "194/194 [==============================] - 0s 1ms/step - loss: 0.9981 - accuracy: 0.5184\n",
      "Epoch 54/70\n",
      "194/194 [==============================] - 0s 1ms/step - loss: 0.9980 - accuracy: 0.5192\n",
      "Epoch 55/70\n",
      "194/194 [==============================] - 0s 1ms/step - loss: 0.9977 - accuracy: 0.5202\n",
      "Epoch 56/70\n",
      "194/194 [==============================] - 0s 1ms/step - loss: 0.9978 - accuracy: 0.5226\n",
      "Epoch 57/70\n",
      "194/194 [==============================] - 0s 1ms/step - loss: 0.9973 - accuracy: 0.5189\n",
      "Epoch 58/70\n",
      "194/194 [==============================] - 0s 1ms/step - loss: 0.9974 - accuracy: 0.5202\n",
      "Epoch 59/70\n",
      "194/194 [==============================] - 0s 1ms/step - loss: 0.9971 - accuracy: 0.5208\n",
      "Epoch 60/70\n",
      "194/194 [==============================] - 0s 1ms/step - loss: 0.9970 - accuracy: 0.5211\n",
      "Epoch 61/70\n",
      "194/194 [==============================] - 0s 1ms/step - loss: 0.9968 - accuracy: 0.5215\n",
      "Epoch 62/70\n",
      "194/194 [==============================] - 0s 1ms/step - loss: 0.9967 - accuracy: 0.5216\n",
      "Epoch 63/70\n",
      "194/194 [==============================] - 0s 1ms/step - loss: 0.9965 - accuracy: 0.5223\n",
      "Epoch 64/70\n",
      "194/194 [==============================] - 0s 1ms/step - loss: 0.9965 - accuracy: 0.5206\n",
      "Epoch 65/70\n",
      "194/194 [==============================] - 0s 1ms/step - loss: 0.9964 - accuracy: 0.5226\n",
      "Epoch 66/70\n",
      "194/194 [==============================] - 0s 1ms/step - loss: 0.9962 - accuracy: 0.5229\n",
      "Epoch 67/70\n",
      "194/194 [==============================] - 0s 1ms/step - loss: 0.9961 - accuracy: 0.5223\n",
      "Epoch 68/70\n",
      "194/194 [==============================] - 0s 1ms/step - loss: 0.9960 - accuracy: 0.5239\n",
      "Epoch 69/70\n",
      "194/194 [==============================] - 0s 1ms/step - loss: 0.9957 - accuracy: 0.5216\n",
      "Epoch 70/70\n",
      "194/194 [==============================] - 0s 1ms/step - loss: 0.9956 - accuracy: 0.5208\n",
      "\n",
      "\n",
      "Evaluating on testing set...\n",
      "129/129 [==============================] - 0s 955us/step - loss: 0.9983 - accuracy: 0.5333\n",
      "[INFO] loss=0.9983, accuracy: 53.3269%\n"
     ]
    }
   ],
   "source": [
    "model.compile(optimizer=SGD(lr=0.01), loss=\"categorical_crossentropy\", metrics=[\"accuracy\"])\n",
    "model.fit(X_train, y_train, epochs=70, verbose=1); \n",
    "\n",
    "# show the accuracy on the testing set\n",
    "print(\"\\n\\nEvaluating on testing set...\")\n",
    "(loss, accuracy) = model.evaluate(X_valid, y_valid, batch_size=16, verbose=1)\n",
    "print(\"[INFO] loss={:.4f}, accuracy: {:.4f}%\".format(loss, accuracy * 100))\n"
   ]
  },
  {
   "cell_type": "code",
   "execution_count": 128,
   "metadata": {
    "id": "UrMEGy-fzsxI"
   },
   "outputs": [],
   "source": []
  },
  {
   "cell_type": "markdown",
   "metadata": {
    "id": "6PUXNXLfzsxK"
   },
   "source": [
    "\n",
    "\n",
    "#### Acknowledgment:\n",
    "* The dataset used in this project is taken from [ANES (American National Election Study)](https://electionstudies.org/data-center/)."
   ]
  },
  {
   "cell_type": "code",
   "execution_count": 128,
   "metadata": {
    "id": "mDJCL5OHzsxK"
   },
   "outputs": [],
   "source": []
  }
 ],
 "metadata": {
  "colab": {
   "name": "3. (Colab) Predicting election results using ANES data.ipynb",
   "provenance": []
  },
  "kernelspec": {
   "display_name": "Python 3",
   "language": "python",
   "name": "python3"
  },
  "language_info": {
   "codemirror_mode": {
    "name": "ipython",
    "version": 3
   },
   "file_extension": ".py",
   "mimetype": "text/x-python",
   "name": "python",
   "nbconvert_exporter": "python",
   "pygments_lexer": "ipython3",
   "version": "3.8.3"
  }
 },
 "nbformat": 4,
 "nbformat_minor": 1
}
